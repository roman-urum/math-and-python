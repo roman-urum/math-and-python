{
 "cells": [
  {
   "cell_type": "code",
   "execution_count": 2,
   "metadata": {
    "collapsed": true
   },
   "outputs": [],
   "source": [
    "import numpy as np"
   ]
  },
  {
   "cell_type": "markdown",
   "metadata": {},
   "source": [
    "$$  sin\\left(\\frac{x}{5}\\right) e^{\\frac{x}{10}} + 5e^{\\frac{-x}{2}} $$"
   ]
  },
  {
   "cell_type": "code",
   "execution_count": 57,
   "metadata": {
    "collapsed": true
   },
   "outputs": [],
   "source": [
    "def f(x):\n",
    "    return np.sin(x/5.0)*np.exp(x/10.0) + 5.0*np.exp(-x/2.0)"
   ]
  },
  {
   "cell_type": "code",
   "execution_count": 60,
   "metadata": {
    "collapsed": false
   },
   "outputs": [
    {
     "data": {
      "image/png": "[encoded data removed]",
      "text/plain": [
       "<matplotlib.figure.Figure at 0x912c860>"
      ]
     },
     "metadata": {},
     "output_type": "display_data"
    }
   ],
   "source": [
    "import matplotlib.pyplot as plt\n",
    "x = np.arange(0, 16, 0.01)\n",
    "y = [f(i) for i in x]\n",
    "plt.plot(x, y, lw=2)\n",
    "plt.show()"
   ]
  },
  {
   "cell_type": "markdown",
   "metadata": {},
   "source": [
    "$$ w_0 + w_1 x + w_2 x^2 + ... + w_n x^n=0 $$"
   ]
  },
  {
   "cell_type": "code",
   "execution_count": 63,
   "metadata": {
    "collapsed": false
   },
   "outputs": [
    {
     "data": {
      "text/plain": [
       "0.63522141957866562"
      ]
     },
     "execution_count": 63,
     "metadata": {},
     "output_type": "execute_result"
    }
   ],
   "source": [
    "f(15.0)"
   ]
  },
  {
   "cell_type": "code",
   "execution_count": 68,
   "metadata": {
    "collapsed": true
   },
   "outputs": [],
   "source": [
    "A = np.array([[2., 5.], [1., -10.]])"
   ]
  },
  {
   "cell_type": "code",
   "execution_count": 69,
   "metadata": {
    "collapsed": false
   },
   "outputs": [],
   "source": [
    "B = np.array([1., 3.])"
   ]
  },
  {
   "cell_type": "code",
   "execution_count": 71,
   "metadata": {
    "collapsed": false
   },
   "outputs": [],
   "source": [
    "C = np.linalg.det .solve(A, B)"
   ]
  },
  {
   "cell_type": "code",
   "execution_count": 110,
   "metadata": {
    "collapsed": false
   },
   "outputs": [
    {
     "name": "stdout",
     "output_type": "stream",
     "text": [
      "'20 4'\n",
      "True\n",
      "True\n",
      "True\n",
      "12 8\n"
     ]
    }
   ],
   "source": [
    "import numpy as np\n",
    "inParams = input().split()\n",
    "a = int(inParams[0])\n",
    "b = int(inParams[1])\n",
    "M1 = np.array([[1, 1],[1, -1]])\n",
    "v1 = np.array([a, b])\n",
    "print (np.linalg.det(M1) != 0)\n",
    "print (a > b)\n",
    "print (np.linalg.det(M1) != 0 and a > b)\n",
    "if np.linalg.det(M1) != 0 and a > b :\n",
    "    solution = np.linalg.solve(M1, v1) #Находим решение системы\n",
    "    print (str(int(solution[0])) + ' ' + str(int(solution[1])))    \n",
    "else:\n",
    "    print (\"Такой класс не существует\")"
   ]
  }
 ],
 "metadata": {
  "kernelspec": {
   "display_name": "Python 2",
   "language": "python",
   "name": "python2"
  },
  "language_info": {
   "codemirror_mode": {
    "name": "ipython",
    "version": 2
   },
   "file_extension": ".py",
   "mimetype": "text/x-python",
   "name": "python",
   "nbconvert_exporter": "python",
   "pygments_lexer": "ipython2",
   "version": "2.7.13"
  }
 },
 "nbformat": 4,
 "nbformat_minor": 2
}
