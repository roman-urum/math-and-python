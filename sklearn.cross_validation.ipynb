{
 "cells": [
  {
   "cell_type": "markdown",
   "metadata": {},
   "source": [
    "# Sklearn"
   ]
  },
  {
   "cell_type": "markdown",
   "metadata": {},
   "source": [
    "## sklearn.cross_validation"
   ]
  },
  {
   "cell_type": "markdown",
   "metadata": {},
   "source": [
    "документация: http://scikit-learn.org/stable/modules/cross_validation.html"
   ]
  },
  {
   "cell_type": "code",
   "execution_count": 1,
   "metadata": {
    "collapsed": false
   },
   "outputs": [
    {
     "name": "stderr",
     "output_type": "stream",
     "text": [
      "C:\\Users\\rurum\\AppData\\Local\\Continuum\\Anaconda2\\lib\\site-packages\\sklearn\\cross_validation.py:44: DeprecationWarning: This module was deprecated in version 0.18 in favor of the model_selection module into which all the refactored classes and functions are moved. Also note that the interface of the new CV iterators are different from that of this module. This module will be removed in 0.20.\n",
      "  \"This module will be removed in 0.20.\", DeprecationWarning)\n"
     ]
    }
   ],
   "source": [
    "from sklearn import cross_validation, datasets\n",
    "\n",
    "import numpy as np"
   ]
  },
  {
   "cell_type": "markdown",
   "metadata": {},
   "source": [
    "### Разовое разбиение данных на обучение и тест с помощью train_test_split"
   ]
  },
  {
   "cell_type": "code",
   "execution_count": 15,
   "metadata": {
    "collapsed": false
   },
   "outputs": [],
   "source": [
    "iris = datasets.load_iris()"
   ]
  },
  {
   "cell_type": "code",
   "execution_count": 22,
   "metadata": {
    "collapsed": false
   },
   "outputs": [],
   "source": [
    "train_data, test_data, train_labels, test_labels = cross_validation.train_test_split(iris.data, iris.target, \n",
    "                                                                                     test_size = 0.3)"
   ]
  },
  {
   "cell_type": "code",
   "execution_count": 20,
   "metadata": {
    "collapsed": false
   },
   "outputs": [
    {
     "data": {
      "text/plain": [
       "0.3"
      ]
     },
     "execution_count": 20,
     "metadata": {},
     "output_type": "execute_result"
    }
   ],
   "source": [
    "#убедимся, что тестовая выборка действительно составляет 0.3 от всех данных\n",
    "float(len(test_labels))/len(iris.data)"
   ]
  },
  {
   "cell_type": "code",
   "execution_count": 21,
   "metadata": {
    "collapsed": false
   },
   "outputs": [
    {
     "name": "stdout",
     "output_type": "stream",
     "text": [
      "Размер обучающей выборки: 105 объектов \n",
      "Размер тестовой выборки: 45 объектов\n"
     ]
    }
   ],
   "source": [
    "print 'Размер обучающей выборки: {} объектов \\nРазмер тестовой выборки: {} объектов'.format(len(train_data),\n",
    "                                                                                            len(test_data))"
   ]
  },
  {
   "cell_type": "code",
   "execution_count": 23,
   "metadata": {
    "collapsed": false
   },
   "outputs": [
    {
     "name": "stdout",
     "output_type": "stream",
     "text": [
      "Обучающая выборка:\n",
      "[[ 6.2  2.9  4.3  1.3]\n",
      " [ 5.8  2.7  5.1  1.9]\n",
      " [ 6.3  3.4  5.6  2.4]\n",
      " [ 6.1  2.6  5.6  1.4]\n",
      " [ 4.7  3.2  1.3  0.2]]\n",
      "\n",
      "\n",
      "Тестовая выборка:\n",
      "[[ 6.9  3.1  5.1  2.3]\n",
      " [ 5.8  4.   1.2  0.2]\n",
      " [ 7.9  3.8  6.4  2. ]\n",
      " [ 5.2  4.1  1.5  0.1]\n",
      " [ 5.8  2.7  3.9  1.2]]\n"
     ]
    }
   ],
   "source": [
    "print 'Обучающая выборка:\\n', train_data[:5]\n",
    "print '\\n'\n",
    "print 'Тестовая выборка:\\n', test_data[:5]"
   ]
  },
  {
   "cell_type": "code",
   "execution_count": 26,
   "metadata": {
    "collapsed": false
   },
   "outputs": [
    {
     "name": "stdout",
     "output_type": "stream",
     "text": [
      "Метки классов на обучающей выборке:\n",
      "105\n",
      "\n",
      "\n",
      "Метки классов на тестовой выборке:\n",
      "45\n"
     ]
    }
   ],
   "source": [
    "print 'Метки классов на обучающей выборке:\\n', len(train_labels)\n",
    "print '\\n'\n",
    "print 'Метки классов на тестовой выборке:\\n', len(test_labels)"
   ]
  },
  {
   "cell_type": "markdown",
   "metadata": {},
   "source": [
    "### Стратегии проведения кросс-валидации"
   ]
  },
  {
   "cell_type": "markdown",
   "metadata": {},
   "source": [
    "#### KFold"
   ]
  },
  {
   "cell_type": "code",
   "execution_count": 31,
   "metadata": {
    "collapsed": false
   },
   "outputs": [
    {
     "name": "stdout",
     "output_type": "stream",
     "text": [
      "[1 2 3 4 5 6 7 8 9] [0]\n",
      "[0 2 3 4 5 6 7 8 9] [1]\n",
      "[0 1 3 4 5 6 7 8 9] [2]\n",
      "[0 1 2 4 5 6 7 8 9] [3]\n",
      "[0 1 2 3 5 6 7 8 9] [4]\n",
      "[0 1 2 3 4 6 7 8 9] [5]\n",
      "[0 1 2 3 4 5 7 8 9] [6]\n",
      "[0 1 2 3 4 5 6 8 9] [7]\n",
      "[0 1 2 3 4 5 6 7 9] [8]\n",
      "[0 1 2 3 4 5 6 7 8] [9]\n"
     ]
    }
   ],
   "source": [
    "for train_indices, test_indices in cross_validation.KFold(10, n_folds = 10):\n",
    "    print train_indices, test_indices"
   ]
  },
  {
   "cell_type": "code",
   "execution_count": 48,
   "metadata": {
    "collapsed": false
   },
   "outputs": [
    {
     "name": "stdout",
     "output_type": "stream",
     "text": [
      "[1 4 5 6 7 9] [0 2 3 8]\n",
      "[0 1 2 3 4 6 8] [5 7 9]\n",
      "[0 2 3 5 7 8 9] [1 4 6]\n"
     ]
    }
   ],
   "source": [
    "for train_indices, test_indices in cross_validation.KFold(10, n_folds =3, shuffle = True):\n",
    "    print train_indices, test_indices"
   ]
  },
  {
   "cell_type": "code",
   "execution_count": 59,
   "metadata": {
    "collapsed": false
   },
   "outputs": [
    {
     "name": "stdout",
     "output_type": "stream",
     "text": [
      "[0 1 3 4 5 6 7 8 9] [2]\n",
      "[0 1 2 3 4 5 6 7 8] [9]\n",
      "[0 1 2 3 4 5 7 8 9] [6]\n",
      "[0 1 2 3 5 6 7 8 9] [4]\n",
      "[1 2 3 4 5 6 7 8 9] [0]\n",
      "[0 1 2 4 5 6 7 8 9] [3]\n",
      "[0 2 3 4 5 6 7 8 9] [1]\n",
      "[0 1 2 3 4 5 6 8 9] [7]\n",
      "[0 1 2 3 4 5 6 7 9] [8]\n",
      "[0 1 2 3 4 6 7 8 9] [5]\n"
     ]
    }
   ],
   "source": [
    "for train_indices, test_indices in cross_validation.KFold(10, n_folds = 10, shuffle = True, random_state = 1):\n",
    "    print train_indices, test_indices"
   ]
  },
  {
   "cell_type": "markdown",
   "metadata": {},
   "source": [
    "#### StratifiedKFold"
   ]
  },
  {
   "cell_type": "code",
   "execution_count": 61,
   "metadata": {
    "collapsed": false
   },
   "outputs": [
    {
     "name": "stdout",
     "output_type": "stream",
     "text": [
      "[0 0 0 0 0 1 1 1 1 1]\n",
      "[1 3 4 6 8 9] [0 2 5 7]\n",
      "[0 2 4 5 7 8] [1 3 6 9]\n",
      "[0 1 2 3 5 6 7 9] [4 8]\n"
     ]
    }
   ],
   "source": [
    "target = np.array([0] * 5 + [1] * 5)\n",
    "print target\n",
    "for train_indices, test_indices in cross_validation.StratifiedKFold(target, n_folds = 3, shuffle = True, random_state = 0):\n",
    "    print train_indices, test_indices"
   ]
  },
  {
   "cell_type": "code",
   "execution_count": 74,
   "metadata": {
    "collapsed": false
   },
   "outputs": [
    {
     "name": "stdout",
     "output_type": "stream",
     "text": [
      "[0 1 0 1 0 1 0 1 0 1]\n",
      "[2 5 6 7] [0 1 3 4 8 9]\n",
      "[0 1 3 4 8 9] [2 5 6 7]\n"
     ]
    }
   ],
   "source": [
    "target = np.array([0, 1] * 5)\n",
    "print target\n",
    "for train_indices, test_indices in cross_validation.StratifiedKFold(target, n_folds = 2,shuffle = True):\n",
    "    print train_indices, test_indices"
   ]
  },
  {
   "cell_type": "markdown",
   "metadata": {},
   "source": [
    "#### ShuffleSplit"
   ]
  },
  {
   "cell_type": "code",
   "execution_count": 109,
   "metadata": {
    "collapsed": false
   },
   "outputs": [
    {
     "name": "stdout",
     "output_type": "stream",
     "text": [
      "[16 26 32  2 38  4 15  5 35 25 20  1  9  7  0 22  8 33 23 43 48 29 19  3 21\n",
      " 40 42 41 47 17 46 24 30 12 18 36 37 14 11 27 31 49 13] [39 10 45 34  6 28 44]\n",
      "[27 28 38  4 19 26  1 13 18 31 30 49  5  7 21 23 40 34 20 22 32 41 10 17 44\n",
      "  3 47  0 29 15 46 43  2 36 39 24 45 14 35 12 25 16 33] [48 42  6  8  9 37 11]\n",
      "[31 24 45 40 44 49 12  6 21 32 23  9 16 37  5 33 42 35 34 17 46 28 29 15  4\n",
      "  0 25 27 10 43 36  8 20 11  3 18 38  2 22 41 26 19  7] [ 1 30 14 47 39 13 48]\n",
      "[27 19 49 10 36  4 31 34 20 45 17  2 18 39 26 48 25  3 40 12 44 42 16 38 46\n",
      " 24  1 33 21 37  7  9  8 14 43 28 15 47  5 32 23  0 41] [29  6 30 22 11 35 13]\n",
      "[44 47 20 31 42 24 39  6  7 26 19 16  4  1 43 28 30 34 41 18 17 29 14 13 23\n",
      " 12  2 33  3 36 11 27  0 40 38  8 10 46 22 15  9 45 25] [37 21 32  5 48 35 49]\n",
      "[28 40 16 37 25 36 34 41 17 47 26  3 12 43 48 10 35 13 49 21 31  1 22 33 24\n",
      " 30  4 29 20  8  9 44  6  5 38  7 45 42 27 18 15  2 14] [23  0 11 19 46 39 32]\n",
      "[ 8 44  0 23 16 14 20 45 37 32 26 10 33 35 25 29 41  5  4 30  9 12 19 27 21\n",
      " 34 22  1 39 18 15 36 49 46 48  3  7 42  2 28 38 47 31] [43 24 13 40 17 11  6]\n",
      "[ 4 47 39 24 20 42 41 17 31  8 25  9 10  3 34 19 40 32 30  2 38 14 46 12 18\n",
      " 35 23 11 36 16  6 44 13 33  5  1 26  0 27 45 37 28 43] [29 22 15 49  7 21 48]\n",
      "[49 38 30 35  2 12 33 11  3 24 25  6 19 47  8 34 43 27 36  0 42 37 45 32  1\n",
      " 39 40 44 31 29 10 22  4 18 17 21 15  7 26 46 28 23  9] [14 48 16 41  5 20 13]\n",
      "[19  6 31  7  8 12  2 48 26 32 17 15  5 36  1 14 49 40 24 46 20 29  4 39 34\n",
      "  0 13 16 25 30 44 47 45 11 35 37 23 18 10  3 33 21 41] [43 22 28  9 42 38 27]\n",
      "10\n"
     ]
    }
   ],
   "source": [
    "#?cross_validation.ShuffleSplit()\n",
    "c=0\n",
    "for train_indices, test_indices in cross_validation.ShuffleSplit(50, n_iter = 10, test_size = 7):\n",
    "    c=c+1\n",
    "    print train_indices, test_indices\n",
    "print c"
   ]
  },
  {
   "cell_type": "markdown",
   "metadata": {},
   "source": [
    "#### StratifiedShuffleSplit"
   ]
  },
  {
   "cell_type": "code",
   "execution_count": 69,
   "metadata": {
    "collapsed": false
   },
   "outputs": [
    {
     "name": "stdout",
     "output_type": "stream",
     "text": [
      "[0 0 0 0 0 1 1 1 1 1]\n",
      "[9 1 4 0 7 2 6 5] [8 3]\n",
      "[0 8 7 5 2 3 9 4] [6 1]\n",
      "[3 1 7 5 0 2 8 9] [6 4]\n",
      "[4 2 7 5 9 0 1 8] [6 3]\n"
     ]
    }
   ],
   "source": [
    "target = np.array([0] * 5 + [1] * 5)\n",
    "print target\n",
    "for train_indices, test_indices in cross_validation.StratifiedShuffleSplit(target, n_iter = 4, test_size = 0.2):\n",
    "    print train_indices, test_indices"
   ]
  },
  {
   "cell_type": "markdown",
   "metadata": {},
   "source": [
    "#### Leave-One-Out"
   ]
  },
  {
   "cell_type": "code",
   "execution_count": 100,
   "metadata": {
    "collapsed": false
   },
   "outputs": [
    {
     "name": "stdout",
     "output_type": "stream",
     "text": [
      "[1 2 3 4 5 6 7 8 9] [0]\n",
      "[0 2 3 4 5 6 7 8 9] [1]\n",
      "[0 1 3 4 5 6 7 8 9] [2]\n",
      "[0 1 2 4 5 6 7 8 9] [3]\n",
      "[0 1 2 3 5 6 7 8 9] [4]\n",
      "[0 1 2 3 4 6 7 8 9] [5]\n",
      "[0 1 2 3 4 5 7 8 9] [6]\n",
      "[0 1 2 3 4 5 6 8 9] [7]\n",
      "[0 1 2 3 4 5 6 7 9] [8]\n",
      "[0 1 2 3 4 5 6 7 8] [9]\n"
     ]
    }
   ],
   "source": [
    "for train_indices, test_index in cross_validation.LeaveOneOut(10):\n",
    "    print train_indices, test_index"
   ]
  },
  {
   "cell_type": "markdown",
   "metadata": {},
   "source": [
    "Больше стратегий проведения кросс-валидации доступно здесь: http://scikit-learn.org/stable/modules/cross_validation.html#cross-validation-iterators"
   ]
  }
 ],
 "metadata": {
  "kernelspec": {
   "display_name": "Python 2",
   "language": "python",
   "name": "python2"
  },
  "language_info": {
   "codemirror_mode": {
    "name": "ipython",
    "version": 2
   },
   "file_extension": ".py",
   "mimetype": "text/x-python",
   "name": "python",
   "nbconvert_exporter": "python",
   "pygments_lexer": "ipython2",
   "version": "2.7.13"
  }
 },
 "nbformat": 4,
 "nbformat_minor": 0
}
