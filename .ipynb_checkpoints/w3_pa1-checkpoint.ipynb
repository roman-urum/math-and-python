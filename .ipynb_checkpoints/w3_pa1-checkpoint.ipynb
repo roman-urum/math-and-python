{
 "cells": [
  {
   "cell_type": "code",
   "execution_count": 5,
   "metadata": {
    "collapsed": false
   },
   "outputs": [],
   "source": []
  },
  {
   "cell_type": "markdown",
   "metadata": {},
   "source": [
    "$$ f(x) = \\sin \\left(\\frac{x}{5} \\right) e^\\left(\\frac{x}{10}\\right) + 5e^\\left( -\\frac{x}{2} \\right) $$"
   ]
  },
  {
   "cell_type": "code",
   "execution_count": 120,
   "metadata": {
    "collapsed": false
   },
   "outputs": [
    {
     "data": {
      "image/png": "[encoded data removed]",
      "text/plain": [
       "<matplotlib.figure.Figure at 0x10a37dfd0>"
      ]
     },
     "metadata": {},
     "output_type": "display_data"
    },
    {
     "name": "stdout",
     "output_type": "stream",
     "text": [
      "[ 25.88]\n",
      "-11.9\n",
      "      fun: -11.898894665981322\n",
      " hess_inv: array([[ 1.67940841]])\n",
      "      jac: array([ 0.])\n",
      "  message: 'Optimization terminated successfully.'\n",
      "     nfev: 21\n",
      "      nit: 6\n",
      "     njev: 7\n",
      "   status: 0\n",
      "  success: True\n",
      "        x: array([ 25.880193])\n",
      "[ 25.88]\n",
      "-11.9\n"
     ]
    },
    {
     "data": {
      "text/plain": [
       "     fun: -11.898894665981304\n",
       "     jac: array([ -1.77635684e-07])\n",
       " message: 'Optimization terminated successfully.'\n",
       "    nfev: 81\n",
       "     nit: 4\n",
       " success: True\n",
       "       x: array([ 25.88019278])"
      ]
     },
     "execution_count": 120,
     "metadata": {},
     "output_type": "execute_result"
    }
   ],
   "source": [
    "import matplotlib.pyplot as plt\n",
    "import numpy as np\n",
    "import math\n",
    "from scipy.optimize import minimize\n",
    "from scipy.optimize import differential_evolution\n",
    "\n",
    "def f(x):\n",
    "    return math.sin(x/5.)*math.exp(x/10.) + 5.*math.exp(-x/2.)\n",
    "x = np.arange(0, 30, 0.1)\n",
    "y = [f(i) for i in x]\n",
    "plt.plot(x, y, lw=2)\n",
    "plt.show()\n",
    "\n",
    "res = minimize(f, x0=30, method='BFGS')\n",
    "print np.round(res.x,2)\n",
    "print np.round(res.fun,2)\n",
    "\n",
    "res2 = differential_evolution(f, [(1, 30)])\n",
    "print np.round(res2.x, 2)\n",
    "print np.round(res2.fun, 2)"
   ]
  },
  {
   "cell_type": "code",
   "execution_count": null,
   "metadata": {
    "collapsed": true
   },
   "outputs": [],
   "source": []
  },
  {
   "cell_type": "code",
   "execution_count": null,
   "metadata": {
    "collapsed": true
   },
   "outputs": [],
   "source": []
  }
 ],
 "metadata": {
  "kernelspec": {
   "display_name": "Python 2",
   "language": "python",
   "name": "python2"
  },
  "language_info": {
   "codemirror_mode": {
    "name": "ipython",
    "version": 2
   },
   "file_extension": ".py",
   "mimetype": "text/x-python",
   "name": "python",
   "nbconvert_exporter": "python",
   "pygments_lexer": "ipython2",
   "version": "2.7.13"
  }
 },
 "nbformat": 4,
 "nbformat_minor": 2
}
