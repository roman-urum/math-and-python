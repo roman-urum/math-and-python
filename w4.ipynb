{
 "cells": [
  {
   "cell_type": "code",
   "execution_count": 3,
   "metadata": {
    "collapsed": false
   },
   "outputs": [],
   "source": [
    "import pandas as pd\n",
    "import numpy as np\n",
    "import matplotlib.pyplot as plt\n",
    "import scipy.stats as sts\n",
    "%matplotlib inline"
   ]
  },
  {
   "cell_type": "code",
   "execution_count": 12,
   "metadata": {
    "collapsed": true
   },
   "outputs": [],
   "source": [
    "sample = np.random.choice([1,2,3,4,5,6], 100)"
   ]
  },
  {
   "cell_type": "code",
   "execution_count": 6,
   "metadata": {
    "collapsed": false
   },
   "outputs": [
    {
     "data": {
      "text/plain": [
       "array([2, 6, 2, 2, 1, 4, 4, 2, 2, 6, 1, 5, 2, 1, 2, 1, 5, 2, 6, 1, 2, 5, 5,\n",
       "       6, 2, 2, 1, 4, 3, 3, 5, 6, 5, 5, 2, 3, 3, 6, 6, 3, 1, 5, 1, 6, 3, 6,\n",
       "       2, 6, 6, 3, 1, 1, 6, 3, 6, 5, 6, 2, 6, 6, 5, 2, 2, 2, 1, 4, 5, 6, 4,\n",
       "       4, 1, 6, 5, 4, 1, 2, 5, 6, 4, 3, 6, 2, 2, 5, 6, 3, 5, 1, 1, 5, 5, 4,\n",
       "       4, 5, 2, 5, 6, 1, 3, 4])"
      ]
     },
     "execution_count": 6,
     "metadata": {},
     "output_type": "execute_result"
    }
   ],
   "source": [
    "sample"
   ]
  },
  {
   "cell_type": "code",
   "execution_count": 30,
   "metadata": {
    "collapsed": false
   },
   "outputs": [
    {
     "data": {
      "text/plain": [
       "2220.26"
      ]
     },
     "execution_count": 30,
     "metadata": {},
     "output_type": "execute_result"
    }
   ],
   "source": [
    "import math\n",
    "mu = 1197.69\n",
    "sigma = 116182.2\n",
    "round(mu + 3*math.sqrt(sigma),2)"
   ]
  },
  {
   "cell_type": "code",
   "execution_count": 50,
   "metadata": {
    "collapsed": false
   },
   "outputs": [
    {
     "data": {
      "text/plain": [
       "[<matplotlib.lines.Line2D at 0xcf17048>]"
      ]
     },
     "execution_count": 50,
     "metadata": {},
     "output_type": "execute_result"
    },
    {
     "data": {
      "image/png": "[encoded data removed]",
      "text/plain": [
       "<matplotlib.figure.Figure at 0xcdf15f8>"
      ]
     },
     "metadata": {},
     "output_type": "display_data"
    }
   ],
   "source": [
    "mu=2.\n",
    "sigma=0.5\n",
    "norm_rv=sts.norm(loc=mu, scale=sigma)\n",
    "x=np.linspace(0, 4, 100)\n",
    "norm_cdf=norm_rv.cdf(x)\n",
    "plt.plot(x, norm_cdf)"
   ]
  },
  {
   "cell_type": "code",
   "execution_count": 66,
   "metadata": {
    "collapsed": false
   },
   "outputs": [
    {
     "data": {
      "text/plain": [
       "[<matplotlib.lines.Line2D at 0xdb88860>]"
      ]
     },
     "execution_count": 66,
     "metadata": {},
     "output_type": "execute_result"
    },
    {
     "data": {
      "image/png": "[encoded data removed]",
      "text/plain": [
       "<matplotlib.figure.Figure at 0xd7b7da0>"
      ]
     },
     "metadata": {},
     "output_type": "display_data"
    }
   ],
   "source": [
    "pois = sts.poisson(3)\n",
    "round(pois.cdf(0), 2)\n",
    "y = np.linspace(-10,10, 1000)\n",
    "pois_cdf=pois.cdf(y)\n",
    "plt.plot(y, pois_cdf)"
   ]
  },
  {
   "cell_type": "code",
   "execution_count": 69,
   "metadata": {
    "collapsed": false
   },
   "outputs": [
    {
     "data": {
      "text/plain": [
       "2220.26"
      ]
     },
     "execution_count": 69,
     "metadata": {},
     "output_type": "execute_result"
    }
   ],
   "source": [
    "mu=1197.69\n",
    "sigma_square=116182.2\n",
    "sigma=math.sqrt(sigma_square)\n",
    "round(mu+3*sigma,2 )"
   ]
  },
  {
   "cell_type": "code",
   "execution_count": 77,
   "metadata": {
    "collapsed": false
   },
   "outputs": [
    {
     "name": "stdout",
     "output_type": "stream",
     "text": [
      "29.78\n"
     ]
    }
   ],
   "source": [
    "n=2016-1885\n",
    "print round(math.sqrt(sigma_square/n),2)"
   ]
  },
  {
   "cell_type": "code",
   "execution_count": 79,
   "metadata": {
    "collapsed": false
   },
   "outputs": [
    {
     "data": {
      "text/plain": [
       "1287.03"
      ]
     },
     "execution_count": 79,
     "metadata": {},
     "output_type": "execute_result"
    }
   ],
   "source": [
    "mu+3.*29.78"
   ]
  },
  {
   "cell_type": "code",
   "execution_count": 107,
   "metadata": {
    "collapsed": false
   },
   "outputs": [
    {
     "name": "stdout",
     "output_type": "stream",
     "text": [
      "1.00251574315\n",
      "3.16227766017\n"
     ]
    },
    {
     "data": {
      "text/plain": [
       "(array([ 0.50212115,  0.06738681,  0.0137159 ,  0.00775246,  0.00298172,\n",
       "         0.        ,  0.00059634,  0.        ,  0.        ,  0.00178903]),\n",
       " array([  3.00088163,   4.67776777,   6.35465392,   8.03154007,\n",
       "          9.70842621,  11.38531236,  13.06219851,  14.73908466,\n",
       "         16.4159708 ,  18.09285695,  19.7697431 ]),\n",
       " <a list of 10 Patch objects>)"
      ]
     },
     "execution_count": 107,
     "metadata": {},
     "output_type": "execute_result"
    },
    {
     "data": {
      "image/png": "[encoded data removed]",
      "text/plain": [
       "<matplotlib.figure.Figure at 0x104fa940>"
      ]
     },
     "metadata": {},
     "output_type": "display_data"
    }
   ],
   "source": [
    "from scipy.stats import pareto\n",
    "\n",
    "x0=3\n",
    "k=4\n",
    "x=np.linspace(0, 1000, 10000)\n",
    "prt=pareto(k, loc=0, scale=x0)\n",
    "\n",
    "\n",
    "print pareto.ppf(0.01, k)\n",
    "print pareto.ppf(0.99, k)\n",
    "#plt.plot(x, pareto.pdf(x))\n",
    "plt.hist(prt.rvs(1000), normed=True)\n",
    "\n"
   ]
  }
 ],
 "metadata": {
  "kernelspec": {
   "display_name": "Python 2",
   "language": "python",
   "name": "python2"
  },
  "language_info": {
   "codemirror_mode": {
    "name": "ipython",
    "version": 2
   },
   "file_extension": ".py",
   "mimetype": "text/x-python",
   "name": "python",
   "nbconvert_exporter": "python",
   "pygments_lexer": "ipython2",
   "version": "2.7.13"
  }
 },
 "nbformat": 4,
 "nbformat_minor": 2
}
