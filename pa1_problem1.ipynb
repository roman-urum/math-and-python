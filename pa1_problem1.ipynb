{
 "cells": [
  {
   "cell_type": "code",
   "execution_count": 5,
   "metadata": {
    "collapsed": false,
    "scrolled": false
   },
   "outputs": [
    {
     "name": "stdout",
     "output_type": "stream",
     "text": [
      "1 0.952754440874\n",
      "2 0.864473814564\n",
      "3 0.895171516328\n",
      "4 0.77708871497\n",
      "5 0.940238569533\n",
      "6 0.732738758088\n",
      "7 0.925875068334\n",
      "8 0.884272487528\n",
      "9 0.905508881748\n",
      "10 0.832816536227\n",
      "11 0.880477139067\n",
      "12 0.839643254853\n",
      "13 0.87035925529\n",
      "14 0.87401184233\n",
      "15 0.944272178742\n",
      "16 0.840636185422\n",
      "17 0.956644501524\n",
      "18 0.944272178742\n",
      "19 0.888544357485\n",
      "20 0.842757274492\n",
      "21 0.825036446944\n"
     ]
    }
   ],
   "source": [
    "import numpy as np\n",
    "from scipy.spatial import distance\n",
    "import re\n",
    "file_sentences = open('sentences.txt')\n",
    "allWords = dict()\n",
    "allLines = []\n",
    "wordsCount = 0\n",
    "for line in file_sentences:    \n",
    "    lineWords = [word for word in re.split('[^a-z]', line.lower()) if len(word.strip()) > 0]\n",
    "    allLines.append(lineWords)\n",
    "    for word in lineWords:\n",
    "        allWords[word] = wordsCount\n",
    "        wordsCount = wordsCount+1\n",
    "    \n",
    "wordsOccurrencesMatrix = np.zeros((len(allLines), len(allWords)))    \n",
    "\n",
    "i = 0;\n",
    "for lineWords in allLines:\n",
    "    j = 0\n",
    "    for word in allWords.keys():\n",
    "        wordsOccurrencesMatrix[i][j] = lineWords.count(word)\n",
    "        j = j + 1\n",
    "    i = i + 1\n",
    "    \n",
    "for i in range(1, wordsOccurrencesMatrix.shape[0]):\n",
    "    print i, distance.cosine(wordsOccurrencesMatrix[0], wordsOccurrencesMatrix[i])\n",
    "    \n",
    "    "
   ]
  },
  {
   "cell_type": "code",
   "execution_count": null,
   "metadata": {
    "collapsed": true
   },
   "outputs": [],
   "source": []
  },
  {
   "cell_type": "code",
   "execution_count": 105,
   "metadata": {
    "collapsed": false
   },
   "outputs": [
    {
     "ename": "NameError",
     "evalue": "name 'OrderedDict' is not defined",
     "output_type": "error",
     "traceback": [
      "\u001b[0;31m---------------------------------------------------------------------------\u001b[0m",
      "\u001b[0;31mNameError\u001b[0m                                 Traceback (most recent call last)",
      "\u001b[0;32m<ipython-input-105-638c2f87c310>\u001b[0m in \u001b[0;36m<module>\u001b[0;34m()\u001b[0m\n\u001b[0;32m----> 1\u001b[0;31m \u001b[0mOrderedDict\u001b[0m\u001b[1;33m\u001b[0m\u001b[0m\n\u001b[0m",
      "\u001b[0;31mNameError\u001b[0m: name 'OrderedDict' is not defined"
     ]
    }
   ],
   "source": []
  }
 ],
 "metadata": {
  "kernelspec": {
   "display_name": "Python 2",
   "language": "python",
   "name": "python2"
  }
 },
 "nbformat": 4,
 "nbformat_minor": 2
}
